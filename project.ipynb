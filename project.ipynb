{
 "cells": [
  {
   "cell_type": "markdown",
   "metadata": {},
   "source": [
    "# Load data"
   ]
  },
  {
   "cell_type": "code",
   "execution_count": 25,
   "metadata": {},
   "outputs": [],
   "source": [
    "from dotenv import load_dotenv\n",
    "import os\n",
    "from elasticsearch import Elasticsearch\n",
    "\n",
    "# take environment variables from .env.\n",
    "load_dotenv()\n",
    "\n",
    "PROJECT_INDEX = os.getenv(\"PROJECT_INDEX\")"
   ]
  },
  {
   "cell_type": "markdown",
   "metadata": {},
   "source": [
    "### retrieve data from Elastisearch"
   ]
  },
  {
   "cell_type": "code",
   "execution_count": 26,
   "metadata": {
    "pycharm": {
     "is_executing": true
    }
   },
   "outputs": [],
   "source": [
    "import retrieve_data"
   ]
  },
  {
   "cell_type": "code",
   "execution_count": 27,
   "metadata": {
    "scrolled": true
   },
   "outputs": [
    {
     "name": "stderr",
     "output_type": "stream",
     "text": [
      "C:\\Users\\aless\\Desktop\\testEmbeddingModels\\retrieve_data.py:53: ElasticsearchWarning: Elasticsearch built-in security features are not enabled. Without authentication, your cluster could be accessible to anyone. See https://www.elastic.co/guide/en/elasticsearch/reference/7.17/security-minimal-setup.html to enable security.\n",
      "  search_results = dev_client.search(index=PROJECT_INDEX, query=query, scroll=\"30s\", size=10000)['hits']['hits']\n"
     ]
    }
   ],
   "source": [
    "data = retrieve_data.run_project()"
   ]
  },
  {
   "cell_type": "code",
   "execution_count": 28,
   "metadata": {},
   "outputs": [],
   "source": [
    "from utilis import get_bio_by_profile_id, rebuild_bio"
   ]
  },
  {
   "cell_type": "code",
   "execution_count": 29,
   "metadata": {},
   "outputs": [
    {
     "data": {
      "text/plain": [
       "'A Criminological Study of Businesses in Rome. Our study aims to provide a statistical construction of a feasible range of organised crime outcomes across Italian provinces by avoiding the arbitrariness of indicator and variable choices. In Italy, indeed, organized crime is a long-lasting phenomenon, and criminal organizations have a pervasive control over the territory allowing criminal groups to engage in complex criminal activities (e.g., smuggling and drug-trafficking) as well as threatening local politicians and public officials. Launch a survey of businesses in Rome, analyze results, run workshops on the topic with subject experts and citizens around Italy, go online with website.'"
      ]
     },
     "execution_count": 29,
     "metadata": {},
     "output_type": "execute_result"
    }
   ],
   "source": [
    "get_bio_by_profile_id(data, 2)"
   ]
  },
  {
   "cell_type": "code",
   "execution_count": 30,
   "metadata": {
    "scrolled": true
   },
   "outputs": [
    {
     "data": {
      "text/plain": [
       "'(Bonn) A Criminological Study of Businesses in Rome. Our study aims to provide a statistical construction of a feasible range of organised crime outcomes across Italian provinces by avoiding the arbitrariness of indicator and variable choices. In Italy, indeed, organized crime is a long-lasting phenomenon, and criminal organizations have a pervasive control over the territory allowing criminal groups to engage in complex criminal activities (e.g., smuggling and drug-trafficking) as well as threatening local politicians and public officials. Launch a survey of businesses in Rome, analyze results, run workshops on the topic with subject experts and citizens around Italy, go online with website.'"
      ]
     },
     "execution_count": 30,
     "metadata": {},
     "output_type": "execute_result"
    }
   ],
   "source": [
    "get_bio_by_profile_id(data, 23)"
   ]
  },
  {
   "cell_type": "markdown",
   "metadata": {},
   "source": [
    "# Semantic search"
   ]
  },
  {
   "cell_type": "markdown",
   "metadata": {},
   "source": [
    "## variables"
   ]
  },
  {
   "cell_type": "code",
   "execution_count": 31,
   "metadata": {},
   "outputs": [],
   "source": [
    "profile_id = 2\n",
    "model = \"all-MiniLM-L6-v2\"\n",
    "top_k = 5"
   ]
  },
  {
   "cell_type": "markdown",
   "metadata": {},
   "source": [
    "## semantic search"
   ]
  },
  {
   "cell_type": "code",
   "execution_count": 32,
   "metadata": {},
   "outputs": [
    {
     "name": "stdout",
     "output_type": "stream",
     "text": [
      "\n",
      "\n",
      "======================\n",
      "\n",
      "\n",
      "Query: A Criminological Study of Businesses in Rome.\n",
      "\n",
      "Top 5 most similar sentences in corpus:\n",
      "sentence with profile_id 3\n",
      "A Criminological Study on Businesses in Rome. (Score: 0.9964)\n",
      "sentence with profile_id 23\n",
      "(Bonn) A Criminological Study of Businesses in Rome. (Score: 0.9327)\n",
      "sentence with profile_id 23\n",
      "Launch a survey of businesses in Rome, analyze results, run workshops on the topic with subject experts and citizens around Italy, go online with website. (Score: 0.5755)\n",
      "sentence with profile_id 23\n",
      "In Italy, indeed, organized crime is a long-lasting phenomenon, and criminal organizations have a pervasive control over the territory allowing criminal groups to engage in complex criminal activities (e.g., smuggling and drug-trafficking) as well as threatening local politicians and public officials. (Score: 0.4299)\n",
      "sentence with profile_id 31\n",
      "Raise awareness about the 1996 italian law about social reuses. (Score: 0.3498)\n",
      "\n",
      "\n",
      "======================\n",
      "\n",
      "\n",
      "Query: Our study aims to provide a statistical construction of a feasible range of organised crime outcomes across Italian provinces by avoiding the arbitrariness of indicator and variable choices.\n",
      "\n",
      "Top 5 most similar sentences in corpus:\n",
      "sentence with profile_id 23\n",
      "Our study aims to provide a statistical construction of a feasible range of organised crime outcomes across Italian provinces by avoiding the arbitrariness of indicator and variable choices. (Score: 1.0000)\n",
      "sentence with profile_id 23\n",
      "In Italy, indeed, organized crime is a long-lasting phenomenon, and criminal organizations have a pervasive control over the territory allowing criminal groups to engage in complex criminal activities (e.g., smuggling and drug-trafficking) as well as threatening local politicians and public officials. (Score: 0.5959)\n",
      "sentence with profile_id 31\n",
      "In this municipality a large number of social enterprises, which operate in property confiscated from organized crime, are concentrated in a small area. (Score: 0.4414)\n",
      "sentence with profile_id 31\n",
      "Raise awareness about the 1996 italian law about social reuses. (Score: 0.3812)\n",
      "sentence with profile_id 34\n",
      "The CitizenScience based research project: Crime&Tech will provide investigative journalists at IRPI with instruments to analyse firms’ data – specifically from case-studies, selected by the journalists – to identify high risks of corruption or high vulnerabilities. (Score: 0.3722)\n",
      "\n",
      "\n",
      "======================\n",
      "\n",
      "\n",
      "Query: In Italy, indeed, organized crime is a long-lasting phenomenon, and criminal organizations have a pervasive control over the territory allowing criminal groups to engage in complex criminal activities (e.g., smuggling and drug-trafficking) as well as threatening local politicians and public officials.\n",
      "\n",
      "Top 5 most similar sentences in corpus:\n",
      "sentence with profile_id 23\n",
      "In Italy, indeed, organized crime is a long-lasting phenomenon, and criminal organizations have a pervasive control over the territory allowing criminal groups to engage in complex criminal activities (e.g., smuggling and drug-trafficking) as well as threatening local politicians and public officials. (Score: 1.0000)\n",
      "sentence with profile_id 23\n",
      "Our study aims to provide a statistical construction of a feasible range of organised crime outcomes across Italian provinces by avoiding the arbitrariness of indicator and variable choices. (Score: 0.5959)\n",
      "sentence with profile_id 31\n",
      "In this municipality a large number of social enterprises, which operate in property confiscated from organized crime, are concentrated in a small area. (Score: 0.5670)\n",
      "sentence with profile_id 31\n",
      "Raise awareness about the 1996 italian law about social reuses. (Score: 0.4403)\n",
      "sentence with profile_id 3\n",
      "A Criminological Study on Businesses in Rome. (Score: 0.4235)\n",
      "\n",
      "\n",
      "======================\n",
      "\n",
      "\n",
      "Query: Launch a survey of businesses in Rome, analyze results, run workshops on the topic with subject experts and citizens around Italy, go online with website.\n",
      "\n",
      "Top 5 most similar sentences in corpus:\n",
      "sentence with profile_id 23\n",
      "Launch a survey of businesses in Rome, analyze results, run workshops on the topic with subject experts and citizens around Italy, go online with website. (Score: 1.0000)\n",
      "sentence with profile_id 23\n",
      "(Bonn) A Criminological Study of Businesses in Rome. (Score: 0.5897)\n",
      "sentence with profile_id 3\n",
      "A Criminological Study on Businesses in Rome. (Score: 0.5734)\n",
      "sentence with profile_id 9\n",
      "Linux in the Italian IT communities. (Score: 0.4301)\n",
      "sentence with profile_id 23\n",
      "Our study aims to provide a statistical construction of a feasible range of organised crime outcomes across Italian provinces by avoiding the arbitrariness of indicator and variable choices. (Score: 0.3557)\n"
     ]
    }
   ],
   "source": [
    "from semantic_sentence import semantic_search, m_sentences, semantic_text_similarity, best_rank_sentence\n",
    "\n",
    "all_scores_semantic_search, result_semantic_search = semantic_search(data, profile_id, top_k=top_k, model=model)"
   ]
  },
  {
   "cell_type": "code",
   "execution_count": 33,
   "metadata": {
    "scrolled": true
   },
   "outputs": [],
   "source": [
    "# dict(sorted(result_semantic_search.items(), key=lambda item: item[1], reverse=True))"
   ]
  },
  {
   "cell_type": "code",
   "execution_count": 29,
   "metadata": {},
   "outputs": [
    {
     "data": {
      "image/png": "[encoded data removed]",
      "text/plain": [
       "<Figure size 640x480 with 1 Axes>"
      ]
     },
     "metadata": {},
     "output_type": "display_data"
    }
   ],
   "source": [
    "import matplotlib.pyplot as plt\n",
    "import numpy as np\n",
    "\n",
    "length = len(list(all_scores_semantic_search.values())[0])\n",
    "profile_ids = [str(i) for i in all_scores_semantic_search.keys()]\n",
    "sentences = [f\"sentence_{i + 1}\" for i in range(length)]\n",
    "\n",
    "fig = plt.figure()\n",
    "for i in range(length):\n",
    "    values = list()\n",
    "    for element in all_scores_semantic_search.values():\n",
    "        values.append(element[i])\n",
    "    plt.scatter(profile_ids, values, marker='o', label=sentences[i])\n",
    "    \n",
    "plt.plot(profile_ids, result_semantic_search.values(), label='final score')  \n",
    "\n",
    "\n",
    "fig.legend(loc='upper center', bbox_to_anchor=(0.5, 1.05),\n",
    "          ncol=3, fancybox=True, shadow=True)\n",
    "plt.show()"
   ]
  },
  {
   "cell_type": "markdown",
   "metadata": {},
   "source": [
    "## mean between vectors"
   ]
  },
  {
   "cell_type": "code",
   "execution_count": 11,
   "metadata": {},
   "outputs": [],
   "source": [
    "result_mean = m_sentences(data, profile_id, type_operation='mean', model=model)"
   ]
  },
  {
   "cell_type": "code",
   "execution_count": 12,
   "metadata": {
    "scrolled": true
   },
   "outputs": [],
   "source": [
    "# for key, value in dict(sorted(result_mean.items(), key=lambda item: item[1], reverse=True)).items():\n",
    "#     print(f\"profile id: {key}\\n\")\n",
    "#     print(f\"score: {value}\\n\")\n",
    "#     print(\"======================\\n\")"
   ]
  },
  {
   "cell_type": "markdown",
   "metadata": {},
   "source": [
    "## median between vectors"
   ]
  },
  {
   "cell_type": "code",
   "execution_count": 13,
   "metadata": {},
   "outputs": [],
   "source": [
    "result_median = m_sentences(data, profile_id, type_operation='median', model=model)"
   ]
  },
  {
   "cell_type": "code",
   "execution_count": 14,
   "metadata": {
    "scrolled": true
   },
   "outputs": [],
   "source": [
    "# for key, value in dict(sorted(result_median.items(), key=lambda item: item[1], reverse=True)).items():\n",
    "#     print(f\"profile id: {key}\\n\")\n",
    "#     print(f\"score: {value}\\n\")\n",
    "#     print(\"======================\\n\")"
   ]
  },
  {
   "cell_type": "markdown",
   "metadata": {},
   "source": [
    "## semantic search similarity"
   ]
  },
  {
   "cell_type": "code",
   "execution_count": 15,
   "metadata": {
    "scrolled": true
   },
   "outputs": [],
   "source": [
    "all_scores_semantic_text_similarity, result_semantic_text_similarity = semantic_text_similarity(data, profile_id, model=model)"
   ]
  },
  {
   "cell_type": "code",
   "execution_count": 16,
   "metadata": {
    "scrolled": true
   },
   "outputs": [],
   "source": [
    "# for key, value in dict(sorted(result_semantic_text_similarity.items(), key=lambda item: item[1], reverse=True)).items():\n",
    "#     print(f\"profile id: {key}\\n\")\n",
    "#     print(f\"score: {value}\\n\")\n",
    "#     print(\"======================\\n\")"
   ]
  },
  {
   "cell_type": "code",
   "execution_count": 17,
   "metadata": {},
   "outputs": [],
   "source": [
    "# for i in all_scores_semantic_text_similarity[53]:\n",
    "#     for l in i:\n",
    "#         print(round(l.item(), 4), end=\" \")\n",
    "#     print(\"\\n\")"
   ]
  },
  {
   "cell_type": "code",
   "execution_count": 18,
   "metadata": {},
   "outputs": [],
   "source": [
    "# import matplotlib.pyplot as plt\n",
    "# import numpy as np\n",
    "\n",
    "# fig = plt.figure()\n",
    "\n",
    "# cax = plt.matshow(all_scores_semantic_text_similarity[16], fignum=0, aspect='auto', interpolation='nearest')\n",
    "# fig.colorbar(cax)\n",
    "# plt.show()"
   ]
  },
  {
   "cell_type": "markdown",
   "metadata": {},
   "source": [
    "## best rank sentence"
   ]
  },
  {
   "cell_type": "code",
   "execution_count": 19,
   "metadata": {
    "scrolled": true
   },
   "outputs": [],
   "source": [
    "result_best_rank_sentence = best_rank_sentence(data, profile_id, min_score=0.1)"
   ]
  },
  {
   "cell_type": "markdown",
   "metadata": {},
   "source": [
    "## all results"
   ]
  },
  {
   "cell_type": "code",
   "execution_count": 20,
   "metadata": {
    "scrolled": true
   },
   "outputs": [],
   "source": [
    "all_results = {\n",
    "    \"best_rank_sentence\": dict(sorted(result_best_rank_sentence.items(), key=lambda item: item[1], reverse=True)),\n",
    "    \"result_mean\": dict(sorted(result_mean.items(), key=lambda item: item[1], reverse=True)),\n",
    "    \"result_median\": dict(sorted(result_median.items(), key=lambda item: item[1], reverse=True)),\n",
    "    \"result_semantic_text_similarity\": dict(sorted(result_semantic_text_similarity.items(), key=lambda item: item[1], reverse=True)),\n",
    "    \"result_semantic_search\": dict(sorted(result_semantic_search.items(), key=lambda item: item[1], reverse=True))\n",
    "}"
   ]
  },
  {
   "cell_type": "code",
   "execution_count": 21,
   "metadata": {},
   "outputs": [
    {
     "name": "stdout",
     "output_type": "stream",
     "text": [
      "best_rank_sentence\n",
      "======================\n",
      "\n",
      "profile id: 23 score: 1.0\n",
      "profile id: 3 score: 0.996\n",
      "\n",
      "\n",
      "\n",
      "result_mean\n",
      "======================\n",
      "\n",
      "profile id: 23 score: 0.9927432537078857\n",
      "profile id: 3 score: 0.7644822597503662\n",
      "profile id: 31 score: 0.5191020369529724\n",
      "profile id: 34 score: 0.47987067699432373\n",
      "profile id: 29 score: 0.3419744372367859\n",
      "\n",
      "\n",
      "\n",
      "result_median\n",
      "======================\n",
      "\n",
      "profile id: 23 score: 0.9866845607757568\n",
      "profile id: 3 score: 0.7401694059371948\n",
      "profile id: 31 score: 0.46182459592819214\n",
      "profile id: 34 score: 0.4616992473602295\n",
      "profile id: 29 score: 0.3161816895008087\n",
      "\n",
      "\n",
      "\n",
      "result_semantic_text_similarity\n",
      "======================\n",
      "\n",
      "profile id: 3 score: 0.5824510455131531\n",
      "profile id: 23 score: 0.5753023028373718\n",
      "profile id: 31 score: 0.26489758491516113\n",
      "profile id: 34 score: 0.2567320168018341\n",
      "profile id: 40 score: 0.2153293788433075\n",
      "profile id: 13 score: 0.21377231180667877\n",
      "profile id: 29 score: 0.2052510529756546\n",
      "profile id: 15 score: 0.1966366469860077\n",
      "profile id: 27 score: 0.17467591166496277\n",
      "profile id: 10 score: 0.16580775380134583\n",
      "profile id: 26 score: 0.15998822450637817\n",
      "profile id: 49 score: 0.14478984475135803\n",
      "profile id: 43 score: 0.14379316568374634\n",
      "profile id: 36 score: 0.13164354860782623\n",
      "profile id: 55 score: 0.12891940772533417\n",
      "profile id: 20 score: 0.1282152682542801\n",
      "profile id: 11 score: 0.12655463814735413\n",
      "profile id: 28 score: 0.12111373245716095\n",
      "profile id: 24 score: 0.11093932390213013\n",
      "profile id: 53 score: 0.11075809597969055\n",
      "profile id: 4 score: 0.1074003130197525\n",
      "profile id: 58 score: 0.10331086069345474\n",
      "profile id: 56 score: 0.10095815360546112\n",
      "profile id: 32 score: 0.09866262972354889\n",
      "profile id: 33 score: 0.09810829162597656\n",
      "profile id: 12 score: 0.09672215580940247\n",
      "profile id: 30 score: 0.09646083414554596\n",
      "profile id: 41 score: 0.0954345166683197\n",
      "profile id: 47 score: 0.09363454580307007\n",
      "profile id: 25 score: 0.09357775747776031\n",
      "profile id: 1 score: 0.08038894832134247\n",
      "profile id: 21 score: 0.078958660364151\n",
      "profile id: 48 score: 0.07384993135929108\n",
      "profile id: 52 score: 0.07203380018472672\n",
      "profile id: 18 score: 0.06991421431303024\n",
      "profile id: 54 score: 0.06639853864908218\n",
      "profile id: 42 score: 0.06581690907478333\n",
      "profile id: 37 score: 0.0634450614452362\n",
      "profile id: 19 score: 0.048975225538015366\n",
      "profile id: 9 score: 0.04307320713996887\n",
      "profile id: 57 score: 0.03960248455405235\n",
      "profile id: 39 score: 0.03591281920671463\n",
      "profile id: 45 score: 0.02312687784433365\n",
      "profile id: 38 score: 0.016458652913570404\n",
      "profile id: 35 score: 0.016066942363977432\n",
      "profile id: 46 score: 0.006172167602926493\n",
      "profile id: 14 score: 0.005955655127763748\n",
      "profile id: 44 score: -0.007864881306886673\n",
      "profile id: 51 score: -0.011448385193943977\n",
      "profile id: 22 score: -0.019831961020827293\n",
      "profile id: 50 score: -0.0289128627628088\n",
      "\n",
      "\n",
      "\n",
      "result_semantic_search\n",
      "======================\n",
      "\n",
      "profile id: 23 score: 1.0\n",
      "profile id: 3 score: 0.498\n",
      "profile id: 31 score: 0.396\n",
      "profile id: 34 score: 0.0\n",
      "profile id: 9 score: 0.0\n",
      "\n",
      "\n",
      "\n"
     ]
    }
   ],
   "source": [
    "for key, result in all_results.items():\n",
    "    print(key)\n",
    "    print(\"======================\\n\")\n",
    "    for single_profile, score in result.items():\n",
    "        print(f\"profile id: {single_profile}\", end=\" \")\n",
    "        print(f\"score: {score}\")\n",
    "    print(\"\\n\\n\")"
   ]
  },
  {
   "cell_type": "code",
   "execution_count": 22,
   "metadata": {},
   "outputs": [
    {
     "data": {
      "text/plain": [
       "{3: [0.9964317083358765, 0.4234547019004822, 0.5734431147575378, 0],\n",
       " 23: [0.9327012896537781, 1.0000001192092896, 1.0, 1.0],\n",
       " 31: [0.3498167395591736, 0.44142118096351624, 0.5670417547225952, 0],\n",
       " 34: [0.3722109794616699, 0, 0, 0],\n",
       " 9: [0.43005049228668213, 0, 0, 0]}"
      ]
     },
     "execution_count": 22,
     "metadata": {},
     "output_type": "execute_result"
    }
   ],
   "source": [
    "all_scores_semantic_search"
   ]
  },
  {
   "cell_type": "code",
   "execution_count": 24,
   "metadata": {},
   "outputs": [
    {
     "data": {
      "text/plain": [
       "{1: tensor([[0.0926, 0.1477],\n",
       "         [0.0531, 0.0607],\n",
       "         [0.0413, 0.0371],\n",
       "         [0.2037, 0.0069]]),\n",
       " 3: tensor([[0.9964],\n",
       "         [0.3365],\n",
       "         [0.4235],\n",
       "         [0.5734]]),\n",
       " 4: tensor([[ 0.0570,  0.1245],\n",
       "         [ 0.1191,  0.1317],\n",
       "         [-0.0068,  0.1302],\n",
       "         [ 0.2389,  0.0646]]),\n",
       " 9: tensor([[ 0.2846,  0.0897,  0.0897,  0.0897,  0.0662,  0.0897,  0.0662,  0.0662,\n",
       "           0.0949,  0.1330],\n",
       "         [ 0.2147,  0.0185,  0.0185,  0.0185,  0.0206,  0.0185,  0.0206,  0.0206,\n",
       "           0.0273,  0.0293],\n",
       "         [ 0.2463, -0.0239, -0.0239, -0.0239, -0.0212, -0.0239, -0.0212, -0.0212,\n",
       "          -0.0019, -0.0079],\n",
       "         [ 0.4301, -0.0325, -0.0325, -0.0325, -0.0320, -0.0325, -0.0320, -0.0320,\n",
       "          -0.0443,  0.0086]]),\n",
       " 10: tensor([[0.2271],\n",
       "         [0.0976],\n",
       "         [0.1852],\n",
       "         [0.1534]]),\n",
       " 11: tensor([[0.2340, 0.1618, 0.0500, 0.0680, 0.1391],\n",
       "         [0.1015, 0.1340, 0.0210, 0.0648, 0.1053],\n",
       "         [0.1599, 0.1475, 0.0419, 0.0744, 0.1161],\n",
       "         [0.1429, 0.2618, 0.1355, 0.1536, 0.2180]]),\n",
       " 12: tensor([[0.1512],\n",
       "         [0.0385],\n",
       "         [0.0750],\n",
       "         [0.1222]]),\n",
       " 13: tensor([[0.2351],\n",
       "         [0.1970],\n",
       "         [0.1966],\n",
       "         [0.2265]]),\n",
       " 14: tensor([[ 0.0553,  0.0100,  0.1291, -0.0279, -0.0375],\n",
       "         [ 0.0039, -0.0234,  0.0888, -0.0453, -0.0300],\n",
       "         [ 0.0600, -0.0341,  0.0680, -0.0472, -0.0329],\n",
       "         [-0.0515,  0.0166, -0.0015, -0.0123,  0.0309]]),\n",
       " 15: tensor([[0.2367],\n",
       "         [0.1380],\n",
       "         [0.2026],\n",
       "         [0.2092]]),\n",
       " 18: tensor([[ 0.0424,  0.0790,  0.1690],\n",
       "         [ 0.0568,  0.0451,  0.1316],\n",
       "         [ 0.0210,  0.0241,  0.0862],\n",
       "         [ 0.1864, -0.0496,  0.0468]]),\n",
       " 19: tensor([[-0.0054],\n",
       "         [ 0.0819],\n",
       "         [ 0.0079],\n",
       "         [ 0.1115]]),\n",
       " 20: tensor([[0.1144, 0.1429, 0.2157, 0.1977, 0.1614, 0.0691],\n",
       "         [0.0525, 0.1685, 0.1649, 0.0491, 0.0978, 0.2706],\n",
       "         [0.0076, 0.1511, 0.1581, 0.0404, 0.1925, 0.1158],\n",
       "         [0.0745, 0.2011, 0.0599, 0.0852, 0.2326, 0.0539]]),\n",
       " 21: tensor([[ 0.0095,  0.0461,  0.0686,  0.0715],\n",
       "         [ 0.0027,  0.0738,  0.0807,  0.0731],\n",
       "         [ 0.0164,  0.0944,  0.1200,  0.0824],\n",
       "         [-0.0334,  0.1498,  0.2392,  0.1684]]),\n",
       " 22: tensor([[ 0.0491],\n",
       "         [ 0.0296],\n",
       "         [-0.0859],\n",
       "         [-0.0722]]),\n",
       " 23: tensor([[0.9327, 0.3385, 0.4299, 0.5755],\n",
       "         [0.3424, 1.0000, 0.5959, 0.3557],\n",
       "         [0.3963, 0.5959, 1.0000, 0.3483],\n",
       "         [0.5897, 0.3557, 0.3483, 1.0000]]),\n",
       " 24: tensor([[ 0.1483,  0.1395,  0.1064, -0.0450,  0.1164],\n",
       "         [ 0.0195,  0.1181,  0.1221,  0.0965,  0.2140],\n",
       "         [ 0.0361,  0.1629,  0.1822,  0.0307,  0.1075],\n",
       "         [ 0.0467,  0.2840,  0.1776,  0.0640,  0.0913]]),\n",
       " 25: tensor([[ 0.1870,  0.0622,  0.0950,  0.0094,  0.0460,  0.0938,  0.0566],\n",
       "         [ 0.1007,  0.1567,  0.1422,  0.1235,  0.0637,  0.1621,  0.1388],\n",
       "         [ 0.0078,  0.0402,  0.0467, -0.0286,  0.0066,  0.0845,  0.0508],\n",
       "         [ 0.0874,  0.1572,  0.2580,  0.0358,  0.1248,  0.1769,  0.1342]]),\n",
       " 26: tensor([[0.1299],\n",
       "         [0.1766],\n",
       "         [0.1752],\n",
       "         [0.1583]]),\n",
       " 27: tensor([[0.2336],\n",
       "         [0.1297],\n",
       "         [0.1920],\n",
       "         [0.1434]]),\n",
       " 28: tensor([[0.0901],\n",
       "         [0.1838],\n",
       "         [0.1888],\n",
       "         [0.0218]]),\n",
       " 29: tensor([[0.1885, 0.3493, 0.2482, 0.3367],\n",
       "         [0.1295, 0.0929, 0.1722, 0.1864],\n",
       "         [0.0808, 0.2363, 0.2092, 0.2849],\n",
       "         [0.1015, 0.2246, 0.1804, 0.2625]]),\n",
       " 30: tensor([[ 0.1897],\n",
       "         [ 0.0389],\n",
       "         [ 0.1641],\n",
       "         [-0.0069]]),\n",
       " 31: tensor([[ 0.1300,  0.2151,  0.1941,  0.3487,  0.1087,  0.3498],\n",
       "         [ 0.1676,  0.1086,  0.2535,  0.4414,  0.2526,  0.3812],\n",
       "         [ 0.2555,  0.1182,  0.3974,  0.5670,  0.2857,  0.4403],\n",
       "         [-0.0103,  0.2744,  0.2900,  0.3083,  0.1408,  0.3390]]),\n",
       " 32: tensor([[0.0553, 0.0382, 0.0266, 0.0162],\n",
       "         [0.1269, 0.1040, 0.1229, 0.0713],\n",
       "         [0.0817, 0.0715, 0.0453, 0.0373],\n",
       "         [0.1428, 0.1820, 0.2314, 0.2251]]),\n",
       " 33: tensor([[ 0.1897,  0.2049,  0.1151,  0.0819,  0.1922,  0.0822,  0.1137,  0.0753,\n",
       "           0.2599,  0.1502,  0.1369,  0.1883,  0.1831,  0.0780,  0.1429,  0.1634,\n",
       "           0.1528],\n",
       "         [ 0.0389,  0.0648,  0.0173, -0.0441,  0.1414,  0.0995,  0.0372,  0.0271,\n",
       "           0.0997,  0.0643,  0.0662,  0.0429,  0.1705,  0.1027, -0.0339,  0.0328,\n",
       "           0.0265],\n",
       "         [ 0.1641,  0.1808,  0.1335, -0.0056,  0.1544,  0.1445,  0.1068,  0.1580,\n",
       "           0.1754,  0.1349,  0.0391,  0.0876,  0.1233,  0.1110,  0.0220,  0.1734,\n",
       "           0.1492],\n",
       "         [-0.0069,  0.1299,  0.0788,  0.0144,  0.2251,  0.1228,  0.0077,  0.0576,\n",
       "           0.1951,  0.0729,  0.0718,  0.0177,  0.0243, -0.0292, -0.0147,  0.0603,\n",
       "           0.1273]]),\n",
       " 34: tensor([[0.0505, 0.3152, 0.2699, 0.2541, 0.1595],\n",
       "         [0.1510, 0.2371, 0.3417, 0.3722, 0.3006],\n",
       "         [0.0470, 0.3800, 0.4233, 0.3906, 0.3328],\n",
       "         [0.1395, 0.2406, 0.3034, 0.2931, 0.1326]]),\n",
       " 35: tensor([[ 0.0468],\n",
       "         [ 0.0685],\n",
       "         [-0.0078],\n",
       "         [-0.0433]]),\n",
       " 36: tensor([[0.2336, 0.1958, 0.0882, 0.1124, 0.1416, 0.0763],\n",
       "         [0.1297, 0.2038, 0.0148, 0.0842, 0.0762, 0.0710],\n",
       "         [0.1920, 0.2002, 0.1386, 0.1486, 0.1221, 0.0736],\n",
       "         [0.1434, 0.1540, 0.0155, 0.1735, 0.1954, 0.1750]]),\n",
       " 37: tensor([[0.1209],\n",
       "         [0.0407],\n",
       "         [0.0188],\n",
       "         [0.0734]]),\n",
       " 38: tensor([[ 0.0933],\n",
       "         [ 0.0434],\n",
       "         [-0.0180],\n",
       "         [-0.0529]]),\n",
       " 39: tensor([[ 0.0547],\n",
       "         [ 0.0892],\n",
       "         [-0.0652],\n",
       "         [ 0.0649]]),\n",
       " 40: tensor([[0.2273],\n",
       "         [0.1693],\n",
       "         [0.2942],\n",
       "         [0.1705]]),\n",
       " 41: tensor([[0.1738],\n",
       "         [0.0804],\n",
       "         [0.0225],\n",
       "         [0.1051]]),\n",
       " 42: tensor([[-0.0395, -0.0890, -0.0123, -0.0465, -0.0404,  0.0812,  0.0014, -0.0339,\n",
       "           0.0809,  0.0288,  0.0806,  0.0505,  0.0581,  0.0056,  0.0242,  0.1139,\n",
       "           0.0178,  0.0995,  0.0969, -0.0665, -0.0534, -0.0313],\n",
       "         [ 0.0295,  0.0166,  0.0480,  0.0140, -0.0115,  0.0663,  0.0739,  0.0172,\n",
       "           0.0133,  0.0806,  0.0352,  0.0089,  0.0661,  0.0246,  0.0184,  0.0858,\n",
       "           0.0038,  0.0909,  0.1112,  0.0057, -0.0009, -0.0298],\n",
       "         [ 0.0010,  0.0704,  0.0299,  0.0122,  0.0170,  0.1282,  0.0709,  0.0494,\n",
       "           0.1118,  0.0505,  0.0660,  0.1797,  0.0313,  0.0546,  0.1132,  0.1280,\n",
       "           0.0501,  0.1553,  0.0717,  0.0050,  0.0626,  0.0786],\n",
       "         [ 0.1609,  0.1171,  0.1886,  0.1193,  0.2071,  0.2040,  0.1226, -0.0327,\n",
       "           0.0895,  0.1292,  0.1540,  0.1272,  0.2028,  0.1819,  0.1608,  0.2378,\n",
       "           0.1164,  0.1054,  0.1018,  0.1768,  0.1732,  0.1159]]),\n",
       " 43: tensor([[ 0.2232,  0.1355,  0.2290,  0.2215,  0.1567,  0.1148,  0.1014,  0.1206,\n",
       "           0.0362,  0.0914,  0.1960],\n",
       "         [ 0.0231,  0.0959,  0.1825,  0.1830,  0.1585,  0.1563,  0.1052,  0.1510,\n",
       "          -0.0149,  0.1470,  0.1053],\n",
       "         [ 0.0812,  0.1125,  0.2295,  0.2193,  0.1013,  0.1100,  0.1806,  0.1807,\n",
       "           0.0262,  0.1043,  0.0859],\n",
       "         [ 0.1328,  0.2156,  0.1854,  0.1780,  0.1427,  0.2276,  0.1797,  0.1729,\n",
       "           0.1043,  0.2991,  0.1381]]),\n",
       " 44: tensor([[ 0.1132],\n",
       "         [-0.0298],\n",
       "         [-0.0449],\n",
       "         [-0.0700]]),\n",
       " 45: tensor([[ 0.1421,  0.0915,  0.0810],\n",
       "         [ 0.0622,  0.0210,  0.0478],\n",
       "         [ 0.0002, -0.0139, -0.0405],\n",
       "         [-0.0049, -0.0767, -0.0323]]),\n",
       " 46: tensor([[ 0.0352],\n",
       "         [ 0.0272],\n",
       "         [-0.0672],\n",
       "         [ 0.0295]]),\n",
       " 47: tensor([[ 0.0963,  0.1393,  0.0995],\n",
       "         [ 0.0474,  0.1355,  0.1901],\n",
       "         [-0.0060,  0.1000,  0.0403],\n",
       "         [ 0.0295,  0.1895,  0.0623]]),\n",
       " 48: tensor([[ 0.1005,  0.0961,  0.0764,  0.1304,  0.0419, -0.0135],\n",
       "         [-0.0009,  0.0430,  0.0523,  0.0395,  0.0198, -0.0137],\n",
       "         [ 0.0319,  0.1055,  0.0429,  0.1481,  0.1465,  0.0172],\n",
       "         [ 0.0019,  0.1360,  0.1776,  0.2237,  0.0612,  0.1081]]),\n",
       " 49: tensor([[0.0844, 0.1968, 0.0552],\n",
       "         [0.1323, 0.1420, 0.1465],\n",
       "         [0.0230, 0.1678, 0.0875],\n",
       "         [0.1828, 0.2293, 0.2899]]),\n",
       " 50: tensor([[ 0.0335],\n",
       "         [-0.0114],\n",
       "         [-0.0523],\n",
       "         [-0.0855]]),\n",
       " 51: tensor([[ 0.0543],\n",
       "         [ 0.0164],\n",
       "         [-0.0874],\n",
       "         [-0.0292]]),\n",
       " 52: tensor([[0.0859, 0.0670, 0.0945],\n",
       "         [0.0387, 0.0494, 0.0765],\n",
       "         [0.0271, 0.0882, 0.1145],\n",
       "         [0.1041, 0.0914, 0.0270]]),\n",
       " 53: tensor([[0.1555, 0.0176, 0.0725],\n",
       "         [0.1484, 0.0878, 0.0527],\n",
       "         [0.1181, 0.0680, 0.1035],\n",
       "         [0.2220, 0.1998, 0.0832]]),\n",
       " 54: tensor([[ 0.1541,  0.0925,  0.0934,  0.1137,  0.0363,  0.0929],\n",
       "         [ 0.0580,  0.1033,  0.0091,  0.0654,  0.0196,  0.0330],\n",
       "         [ 0.0386,  0.0838,  0.0400,  0.0674, -0.0233,  0.0234],\n",
       "         [ 0.1103,  0.2118,  0.0748,  0.1111, -0.0248,  0.0088]]),\n",
       " 55: tensor([[0.1531, 0.2151, 0.1642],\n",
       "         [0.0780, 0.0559, 0.1860],\n",
       "         [0.0365, 0.1327, 0.1353],\n",
       "         [0.1541, 0.1094, 0.1265]]),\n",
       " 56: tensor([[ 0.1463,  0.1372,  0.0463,  0.0564],\n",
       "         [ 0.0625, -0.0279,  0.0885,  0.0968],\n",
       "         [ 0.0465,  0.0383,  0.0170,  0.0920],\n",
       "         [ 0.1244,  0.1638,  0.2533,  0.2739]]),\n",
       " 57: tensor([[ 7.8195e-02,  1.1960e-01, -1.1808e-02,  3.1310e-02,  3.9359e-02],\n",
       "         [ 2.9988e-05, -2.4422e-02,  5.0163e-02,  8.9555e-02,  3.2578e-02],\n",
       "         [-1.5291e-02,  7.7961e-02,  9.8235e-02,  1.0957e-01,  1.7516e-02],\n",
       "         [-1.8747e-02,  2.7737e-02, -8.7213e-03,  1.3355e-01, -3.4310e-02]]),\n",
       " 58: tensor([[0.0942, 0.1281, 0.2014, 0.1429],\n",
       "         [0.0020, 0.0498, 0.1194, 0.1218],\n",
       "         [0.0106, 0.0539, 0.0808, 0.0906],\n",
       "         [0.0287, 0.1243, 0.2190, 0.1857]])}"
      ]
     },
     "execution_count": 24,
     "metadata": {},
     "output_type": "execute_result"
    }
   ],
   "source": [
    "all_scores_semantic_text_similarity"
   ]
  },
  {
   "cell_type": "code",
   "execution_count": null,
   "metadata": {},
   "outputs": [],
   "source": []
  }
 ],
 "metadata": {
  "kernelspec": {
   "display_name": "Python 3 (ipykernel)",
   "language": "python",
   "name": "python3"
  },
  "language_info": {
   "codemirror_mode": {
    "name": "ipython",
    "version": 3
   },
   "file_extension": ".py",
   "mimetype": "text/x-python",
   "name": "python",
   "nbconvert_exporter": "python",
   "pygments_lexer": "ipython3",
   "version": "3.10.11"
  }
 },
 "nbformat": 4,
 "nbformat_minor": 1
}
